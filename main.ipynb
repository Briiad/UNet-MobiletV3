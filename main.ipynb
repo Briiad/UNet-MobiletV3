{
 "cells": [
  {
   "cell_type": "markdown",
   "metadata": {},
   "source": [
    "# Monocular Depth Estimation Using U-Net and MobileNetV3 on Jetson TX2 NX Devices\n",
    "\n",
    "This model aims for monocular depth estimation using a U-Net architecture with a MobileNetV3 as the encoder. The model is trained on the DIODE Indoor Dataset.\n",
    "\n",
    "The model are built using the pytorch framework and then will be converted to ONNX then to a TensorRT engine for inference on the Jetson TX2 NX device.\n",
    "\n",
    "The model is trained using the Adam optimizer with a learning rate of 0.0001 (Can be changed). The model is trained using the mean squared error loss function.\n",
    "\n",
    "For more information on the model, please refer to the following paper: https://arxiv.org/pdf/2004.04572.pdf\n",
    "\n",
    "An Aditional information can be accessed in the following link: https://github.com/alinstein/Depth_estimation"
   ]
  }
 ],
 "metadata": {
  "language_info": {
   "name": "python"
  },
  "orig_nbformat": 4
 },
 "nbformat": 4,
 "nbformat_minor": 2
}
